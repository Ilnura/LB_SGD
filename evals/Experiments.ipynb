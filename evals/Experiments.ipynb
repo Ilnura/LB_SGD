{
 "cells": [
  {
   "cell_type": "markdown",
   "id": "foster-discount",
   "metadata": {},
   "source": [
    "# Experiments"
   ]
  },
  {
   "cell_type": "markdown",
   "id": "eastern-exemption",
   "metadata": {},
   "source": [
    "### \"Log Barriers for Safe Optimization of Smooth Constrained Problems\" Usmanova et. al., Section 5.1"
   ]
  },
  {
   "cell_type": "code",
   "execution_count": 317,
   "id": "living-montgomery",
   "metadata": {
    "scrolled": true
   },
   "outputs": [
    {
     "name": "stdout",
     "output_type": "stream",
     "text": [
      "The autoreload extension is already loaded. To reload it, use:\n",
      "  %reload_ext autoreload\n"
     ]
    }
   ],
   "source": [
    "%load_ext autoreload\n",
    "%autoreload 2"
   ]
  },
  {
   "cell_type": "code",
   "execution_count": 318,
   "id": "standing-adventure",
   "metadata": {},
   "outputs": [],
   "source": [
    "import os\n",
    "import sys\n",
    "sys.path.append('..')\n",
    "\n",
    "import numpy as np\n",
    "from numpy import linalg\n",
    "from scipy.optimize import linprog, minimize_scalar\n",
    "from scipy.stats import norm, chi2\n",
    "from scipy.linalg import expm\n",
    "from scipy.integrate import quad\n",
    "\n",
    "import numdifftools as nd\n",
    "import matplotlib.pyplot as plt\n",
    "import matplotlib.lines as lines\n",
    "%matplotlib inline\n",
    "\n",
    "from matplotlib.lines import Line2D\n",
    "import matplotlib.patches as mpatches\n",
    "import lib.LB_optimizer as LB\n",
    "from lib.functions_plots import plot_convergence_shaded, plot_experiments, read_LineBO, plot_experiments_linebo, plot_runtimes\n",
    "\n",
    "from time import time\n",
    "\n",
    "import matplotlib.patches as mpatches\n",
    "\n",
    "plt.rcParams[\"text.usetex\"] = True\n",
    "plt.rcParams[\"font.family\"] = \"serif\"\n",
    "plt.rcParams[\"font.serif\"] = \"Times New Roman\"\n",
    "import h5py\n",
    "\n",
    "import pickle"
   ]
  },
  {
   "cell_type": "code",
   "execution_count": 319,
   "id": "artificial-diabetes",
   "metadata": {},
   "outputs": [],
   "source": [
    "import GPy\n",
    "from safeopt import SafeOpt, SafeOptSwarm\n",
    "from safeopt import linearly_spaced_combinations, plot_3d_gp\n",
    "from lib.safeopt_run import run_SafeOpt"
   ]
  },
  {
   "cell_type": "markdown",
   "id": "bigger-candle",
   "metadata": {},
   "source": [
    "### Comparison experiments functions for SafeOpt and LB_SGD"
   ]
  },
  {
   "cell_type": "code",
   "execution_count": 427,
   "id": "constant-constitution",
   "metadata": {},
   "outputs": [],
   "source": [
    "def run_exp_SafeOpt(f, h, \n",
    "                    d, m,\n",
    "                    experiments_num = 5, \n",
    "                    n_iters = 100,  \n",
    "                    x00 = np.zeros(2), \n",
    "                    x_opt =  np.ones(2) / 2**0.5,  \n",
    "                    sigma = 0.001,                # noise in measurements\n",
    "                    bnd_l = -1., bnd_u = 1.,      # bounds of sampling for SafeOpt\n",
    "                    problem_name = '',\n",
    "                    gp_var = 0.1, gp_var_cons = None,\n",
    "                    L = 0.25,  \n",
    "                    gp_num_samples = 50, \n",
    "                    print_it = False, \n",
    "                    method = None):\n",
    "\n",
    "    errors = []\n",
    "    cons = []\n",
    "    runtimes = []\n",
    "    for i in range(experiments_num):\n",
    "        time_0 = time()\n",
    "        x_traj, errors_so, cons_so, gp = run_SafeOpt(n_iters, \n",
    "                                                     f, h, \n",
    "                                                     x00, x_opt, \n",
    "                                                     d, m, \n",
    "                                                     sigma, \n",
    "                                                     bnd_l, bnd_u, \n",
    "                                                     gp_var=gp_var,\n",
    "                                                     gp_var_cons=gp_var_cons,\n",
    "                                                     L=L,  \n",
    "                                                     gp_num_samples=gp_num_samples,\n",
    "                                                     print_it = print_it,\n",
    "                                                    method = method)\n",
    "        runtimes.append(time() - time_0)\n",
    "        print(\"SafeOptRun finished\")\n",
    "        errors.append(errors_so)\n",
    "        cons.append(cons_so)\n",
    "    errors = np.array(errors)\n",
    "    cons = np.array(cons)\n",
    "    runtimes = np.array(runtimes)\n",
    "    \n",
    "    with open('../runs/SafeOpt_' + problem_name + '_d' + str(d)  + '.npy', 'wb') as file:\n",
    "        np.save(file, errors)\n",
    "        np.save(file, cons)\n",
    "        np.save(file, runtimes)\n",
    "    \n",
    "    return (errors, cons, gp)  \n",
    "\n",
    "def run_exp_LB_SGD(f, h, d, m,\n",
    "                   experiments_num = 5, \n",
    "                   n_iters = 100, \n",
    "                   n = 1, \n",
    "                   M0 = 0.5 / 2., \n",
    "                   Ms = 0. * np.ones(4), \n",
    "                   x00 = np.zeros(2), \n",
    "                   x_opt =  np.ones(2) / 2**0.5, \n",
    "                   sigma = 0.001, nu = 0.01, \n",
    "                   eta0 = 0.05, \n",
    "                   T = 3, \n",
    "                   factor = 0.85, \n",
    "                   init_std = 0.1,\n",
    "                   problem_name = ''):\n",
    "\n",
    "    my_oracle = LB.Oracle(\n",
    "        f = f,\n",
    "        h = h, \n",
    "        sigma = sigma,\n",
    "        hat_sigma = 0.01,\n",
    "        delta = 0.01,\n",
    "        m = m,\n",
    "        d = d,\n",
    "        nu = nu,\n",
    "        zeroth_order = True,\n",
    "        n = n)\n",
    "\n",
    "    opt = LB.SafeLogBarrierOptimizer(\n",
    "        x00 = x00,\n",
    "        x0 = x00,\n",
    "        M0 = M0,\n",
    "        Ms = Ms,\n",
    "        sigma = my_oracle.sigma,\n",
    "        hat_sigma = my_oracle.hat_sigma,\n",
    "        init_std = init_std,\n",
    "        eta0 = eta0,\n",
    "        oracle = my_oracle,\n",
    "        f = f,\n",
    "        h = h,\n",
    "        d = d,\n",
    "        m = m,\n",
    "        reg = 0.0001,\n",
    "        x_opt = x_opt,\n",
    "        factor = factor,\n",
    "        T = T,\n",
    "        K = int(n_iters / T / 2. / n),\n",
    "        experiments_num = experiments_num,\n",
    "        mu = 0.,\n",
    "        convex = True,\n",
    "        random_init = True,\n",
    "        no_break = True)\n",
    "\n",
    "    opt.run_average_experiment()\n",
    "    \n",
    "    for i in range(experiments_num):\n",
    "        opt.errors_total[i] = np.repeat(opt.errors_total[i], 2 * n)\n",
    "        opt.constraints_total[i] = np.repeat(opt.constraints_total[i], 2 * n )\n",
    "    \n",
    "    errors = opt.errors_total\n",
    "    constraints = opt.constraints_total\n",
    "    runtimes = opt.runtimes\n",
    "    runtimes = np.array(runtimes)\n",
    "    \n",
    "    with open('../runs/LB_SGD_' + problem_name + '_d' + str(d)  + '.npy', 'wb') as file:\n",
    "        np.save(file, errors)\n",
    "        np.save(file, constraints)\n",
    "        np.save(file, runtimes)\n",
    "\n",
    "    return opt"
   ]
  },
  {
   "cell_type": "markdown",
   "id": "functional-japan",
   "metadata": {},
   "source": [
    "## Comparing methods LB-SGD, SafeOpt, and LineBO on QP problem (Section 5.1.1)"
   ]
  },
  {
   "cell_type": "markdown",
   "id": "turkish-links",
   "metadata": {},
   "source": [
    "### $d = 2$"
   ]
  },
  {
   "cell_type": "code",
   "execution_count": 441,
   "id": "central-privacy",
   "metadata": {},
   "outputs": [],
   "source": [
    "\"\"\"\n",
    "Quadratic benchmark function with linear constraints.\n",
    "\n",
    "Here and everywhere below:\n",
    "\n",
    "d               - int, dimensionality of the decision variable x\n",
    "m               - int, number of constraints\n",
    "x_opt           - array(d), optimal solution (used to plot the accuracy)\n",
    "experiments_num - int, number of experiments, the results are averaged\n",
    "n               - int, number of sampeled directions per iteration in LB_SGD\n",
    "n_iters         - int, total number of samples\n",
    "x00             - array, initial point\n",
    "M0              - float, smoothness constant for the objective\n",
    "Ms              - array(m), array of smoothness constants for the constraints\n",
    "T               - int, number of iterations made by LB_SGD for each fixed eta, eta is decreasing\n",
    "sigma           - float, standard deviation of the additive noise in value measurements\n",
    "L               - float, Lipschitz continuity constant, not nesessary, can be used for SafeOpt\n",
    "eta0            - float, initial eta\n",
    "factor          - float, decreasing factor of eta (omega) eta = omega * eta\n",
    "nu              - float, sampling radius\n",
    "f               - callable, objective function\n",
    "h               - callable, constraints function, returns the array corresponding to constraints values of dimensionality m\n",
    "\"\"\"\n",
    "\n",
    "d = 2\n",
    "m = 2 * d\n",
    "experiments_num = 10\n",
    "n = int(d / 2)\n",
    "n = 1\n",
    "n_iters = d * 60\n",
    "x_opt = np.ones(d) / d**0.5\n",
    "x00 = np.zeros(d)\n",
    "M0 = 0.5 / d\n",
    "Ms = 0. * np.ones(m)\n",
    "T = 3\n",
    "sigma = 0.001\n",
    "problem_name = 'QP'\n",
    "L = 0.25\n",
    "\n",
    "def h(x):\n",
    "    d = np.size(x)\n",
    "    A = np.vstack((np.eye(d),-np.eye(d)))\n",
    "    b = np.ones(2 * d) / d**0.5\n",
    "    return A.dot(x) - b \n",
    "\n",
    "def f(x):    \n",
    "    d = np.size(x)\n",
    "    xx = 2. * np.ones(d)\n",
    "    return np.linalg.norm(x - xx, 2)**2 / 4. / d"
   ]
  },
  {
   "cell_type": "code",
   "execution_count": 429,
   "id": "entitled-roots",
   "metadata": {
    "scrolled": true
   },
   "outputs": [
    {
     "name": "stdout",
     "output_type": "stream",
     "text": [
      "SafeOptRun finished\n",
      "SafeOptRun finished\n",
      "SafeOptRun finished\n",
      "SafeOptRun finished\n",
      "SafeOptRun finished\n",
      "SafeOptRun finished\n",
      "SafeOptRun finished\n",
      "SafeOptRun finished\n",
      "SafeOptRun finished\n",
      "SafeOptRun finished\n"
     ]
    }
   ],
   "source": [
    "_ = run_exp_SafeOpt(f, h, d, m,\n",
    "                experiments_num=experiments_num, \n",
    "                n_iters=n_iters,  \n",
    "                x00=x00, \n",
    "                x_opt=x_opt,  \n",
    "                sigma=sigma,\n",
    "                problem_name=problem_name,\n",
    "                bnd_l=-1., bnd_u=1.,\n",
    "                L=L,\n",
    "                gp_num_samples=50,\n",
    "                gp_var=3.)"
   ]
  },
  {
   "cell_type": "code",
   "execution_count": 442,
   "id": "israeli-copyright",
   "metadata": {
    "scrolled": false
   },
   "outputs": [
    {
     "name": "stdout",
     "output_type": "stream",
     "text": [
      "LB_SGD runs finished\n"
     ]
    }
   ],
   "source": [
    "_ = run_exp_LB_SGD(f, h, d, m,\n",
    "               experiments_num = experiments_num, \n",
    "               n_iters = n_iters,\n",
    "               n = 1, \n",
    "               M0 = M0, \n",
    "               Ms = Ms, \n",
    "               x00 = x00, \n",
    "               init_std = 0.,\n",
    "               eta0 = 0.02, \n",
    "               factor = 0.7,\n",
    "               nu = 0.01,\n",
    "               T = 7,\n",
    "               x_opt = x_opt, \n",
    "               sigma = sigma,\n",
    "               problem_name = problem_name)"
   ]
  },
  {
   "cell_type": "markdown",
   "id": "insured-pittsburgh",
   "metadata": {},
   "source": [
    "### $d = 3$"
   ]
  },
  {
   "cell_type": "code",
   "execution_count": 449,
   "id": "plain-application",
   "metadata": {},
   "outputs": [],
   "source": [
    "d = 3\n",
    "m = 2 * d \n",
    "x_opt =  np.ones(d) / d**0.5\n",
    "experiments_num = 10\n",
    "n = int(d / 2)\n",
    "n = 2\n",
    "n_iters = d * 60\n",
    "\n",
    "x_opt = np.ones(d) / d**0.5\n",
    "x00 = np.zeros(d)\n",
    "M0 = 0.5 / d\n",
    "Ms = 0. * np.ones(m)\n",
    "T = 3\n",
    "sigma = 0.001\n",
    "problem_name = 'QP'\n",
    "\n",
    "def h(x):\n",
    "    d = np.size(x)\n",
    "    A = np.vstack((np.eye(d),-np.eye(d)))\n",
    "    b = np.ones(2 * d) / d**0.5\n",
    "    return A.dot(x) - b \n",
    "\n",
    "def f(x):    \n",
    "    d = np.size(x)\n",
    "    xx = 2. * np.ones(d)\n",
    "    return np.linalg.norm(x - xx, 2)**2 / 4. / d\n"
   ]
  },
  {
   "cell_type": "code",
   "execution_count": 434,
   "id": "different-metropolitan",
   "metadata": {},
   "outputs": [
    {
     "name": "stderr",
     "output_type": "stream",
     "text": [
      "WARNING:root:Warning: 1 unsafe points removed. Model might be violated\n"
     ]
    },
    {
     "name": "stdout",
     "output_type": "stream",
     "text": [
      "SafeOptRun finished\n",
      "SafeOptRun finished\n",
      "SafeOptRun finished\n",
      "SafeOptRun finished\n",
      "SafeOptRun finished\n"
     ]
    },
    {
     "name": "stderr",
     "output_type": "stream",
     "text": [
      "WARNING:root:Warning: 1 unsafe points removed. Model might be violated\n"
     ]
    },
    {
     "name": "stdout",
     "output_type": "stream",
     "text": [
      "SafeOptRun finished\n"
     ]
    },
    {
     "name": "stderr",
     "output_type": "stream",
     "text": [
      "WARNING:root:Warning: 1 unsafe points removed. Model might be violated\n",
      "WARNING:root:Warning: 1 unsafe points removed. Model might be violated\n",
      "WARNING:root:Warning: 1 unsafe points removed. Model might be violated\n"
     ]
    },
    {
     "name": "stdout",
     "output_type": "stream",
     "text": [
      "SafeOptRun finished\n",
      "SafeOptRun finished\n"
     ]
    },
    {
     "name": "stderr",
     "output_type": "stream",
     "text": [
      "WARNING:root:Warning: 1 unsafe points removed. Model might be violated\n"
     ]
    },
    {
     "name": "stdout",
     "output_type": "stream",
     "text": [
      "SafeOptRun finished\n",
      "SafeOptRun finished\n"
     ]
    }
   ],
   "source": [
    "_ = run_exp_SafeOpt(f, h, d, m,\n",
    "                experiments_num=experiments_num, \n",
    "                n_iters=n_iters,  \n",
    "                x00=x00, \n",
    "                x_opt=x_opt,  \n",
    "                sigma=sigma,\n",
    "                problem_name=problem_name,\n",
    "                bnd_l=-1., bnd_u=1.,\n",
    "                L=L,\n",
    "                gp_num_samples=50,\n",
    "                gp_var=3.)"
   ]
  },
  {
   "cell_type": "code",
   "execution_count": 450,
   "id": "electric-period",
   "metadata": {},
   "outputs": [
    {
     "name": "stdout",
     "output_type": "stream",
     "text": [
      "LB_SGD runs finished\n"
     ]
    }
   ],
   "source": [
    "_ = run_exp_LB_SGD(f, h, d, m,\n",
    "                   experiments_num = experiments_num, \n",
    "                   n_iters = n_iters,\n",
    "                   n = 1, \n",
    "                   M0 = M0, \n",
    "                   Ms = Ms, \n",
    "                   x00 = x00, \n",
    "                   init_std = 0.,\n",
    "                   eta0 = 0.02, \n",
    "                   nu = 0.01,\n",
    "                   factor = 0.7,\n",
    "                   T = 8,\n",
    "                   x_opt = x_opt, \n",
    "                   sigma = sigma,\n",
    "                   problem_name = problem_name)"
   ]
  },
  {
   "cell_type": "markdown",
   "id": "mobile-table",
   "metadata": {},
   "source": [
    "### $d = 4$"
   ]
  },
  {
   "cell_type": "code",
   "execution_count": 457,
   "id": "fossil-tissue",
   "metadata": {},
   "outputs": [],
   "source": [
    "d = 4\n",
    "m = 2 * d \n",
    "x_opt =  np.ones(d) / d**0.5\n",
    "experiments_num = 10\n",
    "n = int(d / 2)\n",
    "n = 3\n",
    "n_iters = d * 60\n",
    "x_opt = np.ones(d) / d**0.5\n",
    "x00 = np.zeros(d)\n",
    "M0 = 0.5 / d\n",
    "Ms = 0. * np.ones(m)\n",
    "T = 3\n",
    "sigma = 0.001\n",
    "problem_name = 'QP'\n",
    "\n",
    "def h(x):\n",
    "    d = np.size(x)\n",
    "    A = np.vstack((np.eye(d),-np.eye(d)))\n",
    "    b = np.ones(2 * d) / d**0.5\n",
    "    return A.dot(x) - b \n",
    "\n",
    "def f(x):    \n",
    "    d = np.size(x)\n",
    "    xx = 2. * np.ones(d)\n",
    "    return np.linalg.norm(x - xx, 2)**2 / 4. / d"
   ]
  },
  {
   "cell_type": "code",
   "execution_count": 437,
   "id": "optical-temple",
   "metadata": {
    "scrolled": true
   },
   "outputs": [
    {
     "name": "stderr",
     "output_type": "stream",
     "text": [
      "WARNING:root:Warning: 1 unsafe points removed. Model might be violated\n"
     ]
    },
    {
     "name": "stdout",
     "output_type": "stream",
     "text": [
      "SafeOptRun finished\n",
      "SafeOptRun finished\n",
      "SafeOptRun finished\n",
      "SafeOptRun finished\n",
      "SafeOptRun finished\n",
      "SafeOptRun finished\n",
      "SafeOptRun finished\n",
      "SafeOptRun finished\n"
     ]
    },
    {
     "name": "stderr",
     "output_type": "stream",
     "text": [
      "WARNING:root:Warning: 1 unsafe points removed. Model might be violated\n"
     ]
    },
    {
     "name": "stdout",
     "output_type": "stream",
     "text": [
      "SafeOptRun finished\n",
      "SafeOptRun finished\n"
     ]
    }
   ],
   "source": [
    "_ = run_exp_SafeOpt(f, h, d, m,\n",
    "                experiments_num=experiments_num, \n",
    "                n_iters=n_iters,  \n",
    "                x00=x00, \n",
    "                x_opt=x_opt,  \n",
    "                sigma=sigma,\n",
    "                problem_name=problem_name,\n",
    "                bnd_l=-1., bnd_u=1.,\n",
    "                L=L,\n",
    "                gp_num_samples=50,\n",
    "                gp_var=3.)"
   ]
  },
  {
   "cell_type": "code",
   "execution_count": 458,
   "id": "administrative-daughter",
   "metadata": {
    "scrolled": false
   },
   "outputs": [
    {
     "name": "stdout",
     "output_type": "stream",
     "text": [
      "LB_SGD runs finished\n"
     ]
    }
   ],
   "source": [
    "_ = run_exp_LB_SGD(f, h, d, m,\n",
    "                   experiments_num = experiments_num, \n",
    "                   n_iters = n_iters,\n",
    "                   n = 2, \n",
    "                   M0 = M0, \n",
    "                   Ms = Ms, \n",
    "                   x00 = x00, \n",
    "                   init_std = 0.,\n",
    "                   eta0 = 0.02, \n",
    "                   factor = 0.7,\n",
    "                   nu = 0.01,\n",
    "                   T = 10,\n",
    "                   x_opt = x_opt, \n",
    "                   sigma = sigma,\n",
    "                   problem_name = problem_name)"
   ]
  },
  {
   "cell_type": "markdown",
   "id": "thermal-doubt",
   "metadata": {},
   "source": [
    "### Plot the results"
   ]
  },
  {
   "cell_type": "code",
   "execution_count": 459,
   "id": "grateful-generator",
   "metadata": {},
   "outputs": [
    {
     "data": {
      "image/png": "[encoded data removed]",
      "text/plain": [
       "<Figure size 608.4x262.548 with 6 Axes>"
      ]
     },
     "metadata": {
      "needs_background": "light"
     },
     "output_type": "display_data"
    }
   ],
   "source": [
    "problem_name = 'QP'\n",
    "experiments_num = 10\n",
    "\n",
    "d = 2\n",
    "def fq2(x):    \n",
    "    d = np.size(x)\n",
    "    xx = 2. * np.ones(d)\n",
    "    return np.linalg.norm(x - xx, 2)**2 / 4. / d\n",
    "d = 3\n",
    "def fq3(x):    \n",
    "    d = np.size(x)\n",
    "    xx = 2. * np.ones(d)\n",
    "    return np.linalg.norm(x - xx, 2)**2 / 4. / d\n",
    "d = 4\n",
    "def fq4(x):    \n",
    "    d = np.size(x)\n",
    "    xx = 2. * np.ones(d)\n",
    "    return np.linalg.norm(x - xx, 2)**2 / 4. / d\n",
    "\n",
    "\n",
    "fig, axes = plt.subplots(nrows=2, ncols=3, \n",
    "                         figsize=(1.3 * 6.5, 1.3 * 0.33 * 8.5), \n",
    "                         constrained_layout=False, \n",
    "                         sharex='col')\n",
    "for d, axes_col, f, x_opt in zip([2,3,4], axes.T, \n",
    "                                 [fq2, fq3, fq4], \n",
    "                                 [np.ones(2) / 2**0.5, \n",
    "                                  np.ones(3) / 3**0.5, \n",
    "                                  np.ones(4) / 4**0.5 ]):\n",
    "    plot_experiments_linebo(d, axes_col, problem_name, experiments_num, f,\n",
    "                            SafeOpt = True, \n",
    "                            opt_val = f(x_opt))\n",
    "\n",
    "handles = axes[1, 0].get_legend_handles_labels()\n",
    "leg = fig.legend(*handles, loc='center',\n",
    "                 bbox_to_anchor=(0.5, 1.), ncol=5, frameon=False, fontsize=10, numpoints=1,\n",
    "                 labelspacing=0.2, columnspacing=0.8, handlelength=1.2, handletextpad=0.5)\n",
    "fig.tight_layout(h_pad=1., w_pad=0.5)\n",
    "artist_to_keep = [leg]\n",
    "plt.savefig('../plots/plot_comparison_' + problem_name + '.pdf', \n",
    "            bbox_extra_artists=artist_to_keep, bbox_inches='tight')"
   ]
  },
  {
   "cell_type": "markdown",
   "id": "allied-binding",
   "metadata": {},
   "source": [
    "## Comparing LB-SGD, SafeOpt, and LineBO on the Rosenbrock objective and quadratic constraints (Section 5.1.2)"
   ]
  },
  {
   "cell_type": "markdown",
   "id": "comparative-debate",
   "metadata": {},
   "source": [
    "### $d = 2$"
   ]
  },
  {
   "cell_type": "code",
   "execution_count": 468,
   "id": "offshore-operations",
   "metadata": {},
   "outputs": [],
   "source": [
    "\"\"\"\n",
    "Rosenbrock benchmark function with quadratic constraints.\n",
    "\"\"\"\n",
    "\n",
    "d = 2\n",
    "m = 2\n",
    "experiments_num = 10\n",
    "n_iters = 100\n",
    "n = 2\n",
    "problem_name = 'Rosenbrock'\n",
    "\n",
    "M0 = 60.\n",
    "Ms = 10. * np.ones(m)\n",
    "x00 = -0.05 * np.ones(d)\n",
    "x_opt = np.ones(d)\n",
    "sigma = 0.001\n",
    "nu = 0.01\n",
    "L = 0.1\n",
    "T = 6\n",
    "\n",
    "def f(x):\n",
    "    return (100. * (x[1:] - x[:-1]**2)**2 + (1 - x[:-1])**2).sum()\n",
    "\n",
    "def h(x):\n",
    "    h1 = np.linalg.norm(x,2)**2 - 1.\n",
    "    h2 = np.linalg.norm(x + 0.1 * np.ones(d),2)**2 - 2. * 0.1\n",
    "    return np.array([h1, h2]) "
   ]
  },
  {
   "cell_type": "code",
   "execution_count": 469,
   "id": "located-party",
   "metadata": {
    "scrolled": true
   },
   "outputs": [
    {
     "name": "stdout",
     "output_type": "stream",
     "text": [
      "SafeOptRun finished\n",
      "SafeOptRun finished\n",
      "SafeOptRun finished\n",
      "SafeOptRun finished\n",
      "SafeOptRun finished\n",
      "SafeOptRun finished\n",
      "SafeOptRun finished\n",
      "SafeOptRun finished\n",
      "SafeOptRun finished\n",
      "SafeOptRun finished\n"
     ]
    }
   ],
   "source": [
    "_ = run_exp_SafeOpt(f, h, d, m,\n",
    "                    experiments_num=experiments_num, \n",
    "                    n_iters=n_iters,  \n",
    "                    x00=x00, \n",
    "                    x_opt=x_opt,  \n",
    "                    sigma=sigma,\n",
    "                    problem_name=problem_name,\n",
    "                    bnd_l=-0.5, bnd_u=0.5,\n",
    "                    L=L,\n",
    "                    gp_num_samples=50,\n",
    "                    gp_var=10.,\n",
    "                    gp_var_cons=1.,\n",
    "                    method = 'SOS'\n",
    "                   )"
   ]
  },
  {
   "cell_type": "code",
   "execution_count": 299,
   "id": "protecting-floor",
   "metadata": {},
   "outputs": [
    {
     "name": "stdout",
     "output_type": "stream",
     "text": [
      "LB_SGD runs finished\n"
     ]
    }
   ],
   "source": [
    "_ = run_exp_LB_SGD(f, h, d, m,\n",
    "                   experiments_num = experiments_num, \n",
    "                   n_iters = n_iters,\n",
    "                   n = n, \n",
    "                   M0 = M0, \n",
    "                   Ms = Ms, \n",
    "                   x00 = x00,\n",
    "                   x_opt = x_opt, \n",
    "                   init_std = 0.,\n",
    "                   factor = 0.7,\n",
    "                   eta0 = 0.1,\n",
    "                   T = T,\n",
    "                   sigma=sigma,\n",
    "                   problem_name=problem_name)"
   ]
  },
  {
   "cell_type": "markdown",
   "id": "sixth-capitol",
   "metadata": {},
   "source": [
    "### $d = 3$"
   ]
  },
  {
   "cell_type": "code",
   "execution_count": 300,
   "id": "suitable-sleeve",
   "metadata": {},
   "outputs": [],
   "source": [
    "d = 3\n",
    "m = 2\n",
    "experiments_num = 10\n",
    "n_iters = 150\n",
    "n = 3\n",
    "problem_name = 'Rosenbrock'\n",
    "M0 = 50.\n",
    "Ms = 10. * np.ones(m)\n",
    "x00 = -0.05 * np.ones(d)\n",
    "x_opt = np.ones(d)\n",
    "sigma = 0.001\n",
    "nu = 0.01\n",
    "\n",
    "def f(x):\n",
    "    f_rosenbrock = 0.\n",
    "    for i in range(d - 1):\n",
    "        f_rosenbrock += 100. * (x[i + 1] - x[i]**2)**2 + (1. - x[i])**2\n",
    "    return f_rosenbrock\n",
    "\n",
    "def h(x):\n",
    "    h1 = np.linalg.norm(x,2)**2 - 1.\n",
    "    h2 = np.linalg.norm(x + 0.1 * np.ones(d),2)**2 - 2. * 0.1\n",
    "    return np.array([h1, h2])"
   ]
  },
  {
   "cell_type": "code",
   "execution_count": 254,
   "id": "employed-czech",
   "metadata": {},
   "outputs": [
    {
     "name": "stdout",
     "output_type": "stream",
     "text": [
      "SafeOptRun finished\n",
      "SafeOptRun finished\n",
      "SafeOptRun finished\n",
      "SafeOptRun finished\n",
      "SafeOptRun finished\n",
      "SafeOptRun finished\n",
      "SafeOptRun finished\n",
      "SafeOptRun finished\n",
      "SafeOptRun finished\n",
      "SafeOptRun finished\n"
     ]
    }
   ],
   "source": [
    "_ = run_exp_SafeOpt(f, h, d, m,\n",
    "                    experiments_num = experiments_num, \n",
    "                    n_iters = n_iters,  \n",
    "                    x00 = x00, \n",
    "                    bnd_l=-1., bnd_u=1.,\n",
    "                    L=L,\n",
    "                    gp_num_samples=100,\n",
    "                    gp_var=10.,\n",
    "                    gp_var_cons=1.,\n",
    "                    x_opt = x_opt,  \n",
    "                    sigma = sigma,\n",
    "                    problem_name = problem_name)"
   ]
  },
  {
   "cell_type": "code",
   "execution_count": 301,
   "id": "typical-promise",
   "metadata": {},
   "outputs": [
    {
     "name": "stdout",
     "output_type": "stream",
     "text": [
      "LB_SGD runs finished\n"
     ]
    }
   ],
   "source": [
    "_ = run_exp_LB_SGD(f, h, d, m,\n",
    "                   experiments_num = experiments_num, \n",
    "                   n_iters = n_iters,\n",
    "                   n = n, \n",
    "                   M0 = M0, \n",
    "                   Ms = Ms, \n",
    "                   x00 = x00,\n",
    "                   init_std = 0.,\n",
    "                   factor = 0.7,\n",
    "                   eta0 = 0.1,\n",
    "                   T = T,\n",
    "                   x_opt = x_opt, \n",
    "                   sigma = sigma,\n",
    "                   problem_name = problem_name)"
   ]
  },
  {
   "cell_type": "markdown",
   "id": "floating-attack",
   "metadata": {},
   "source": [
    "### $d = 4$"
   ]
  },
  {
   "cell_type": "code",
   "execution_count": 302,
   "id": "sufficient-mandate",
   "metadata": {},
   "outputs": [],
   "source": [
    "d = 4\n",
    "m = 2\n",
    "experiments_num = 10\n",
    "n_iters = 200\n",
    "n = 4\n",
    "problem_name = 'Rosenbrock'\n",
    "bnd = 1.\n",
    "M0 = 60.\n",
    "Ms = 10. * np.ones(m)\n",
    "x00 = -0.05 * np.ones(d)\n",
    "x_opt = np.ones(d)\n",
    "sigma = 0.001\n",
    "nu = 0.01\n",
    "\n",
    "def f(x):\n",
    "    f_rosenbrock = 0.\n",
    "    for i in range(d - 1):\n",
    "        f_rosenbrock += 100. * (x[i + 1] - x[i]**2)**2 + (1. - x[i])**2\n",
    "    return f_rosenbrock\n",
    "\n",
    "def h(x):\n",
    "    h1 = np.linalg.norm(x,2)**2 - 1.\n",
    "    h2 = np.linalg.norm(x + 0.1 * np.ones(d),2)**2 - 2. * 0.1\n",
    "    return np.array([h1, h2]) "
   ]
  },
  {
   "cell_type": "code",
   "execution_count": 257,
   "id": "human-gather",
   "metadata": {},
   "outputs": [
    {
     "name": "stdout",
     "output_type": "stream",
     "text": [
      "SafeOptRun finished\n",
      "SafeOptRun finished\n",
      "SafeOptRun finished\n",
      "SafeOptRun finished\n",
      "SafeOptRun finished\n",
      "SafeOptRun finished\n",
      "SafeOptRun finished\n",
      "SafeOptRun finished\n",
      "SafeOptRun finished\n",
      "SafeOptRun finished\n"
     ]
    }
   ],
   "source": [
    "_ = run_exp_SafeOpt(f, h, d, m,\n",
    "                    experiments_num = experiments_num, \n",
    "                    n_iters = n_iters,  \n",
    "                    x00 = x00, \n",
    "                    bnd_l=-1., bnd_u=1.,\n",
    "                    L=L,\n",
    "                    gp_num_samples=100,\n",
    "                    gp_var=10.,\n",
    "                    gp_var_cons=1.,\n",
    "                    x_opt = x_opt,  \n",
    "                    sigma = sigma,\n",
    "                    problem_name = problem_name)"
   ]
  },
  {
   "cell_type": "code",
   "execution_count": 303,
   "id": "accredited-dover",
   "metadata": {},
   "outputs": [
    {
     "name": "stdout",
     "output_type": "stream",
     "text": [
      "LB_SGD runs finished\n"
     ]
    }
   ],
   "source": [
    "_ = run_exp_LB_SGD(f, h, d, m,\n",
    "                   experiments_num = experiments_num, \n",
    "                   n_iters = n_iters,\n",
    "                   n = n, \n",
    "                   M0 = M0, \n",
    "                   Ms = Ms, \n",
    "                   x00 = x00, \n",
    "                   x_opt = x_opt,\n",
    "                   factor = 0.7,\n",
    "                   eta0 = 0.1,\n",
    "                   T = T,\n",
    "                   sigma = sigma,\n",
    "                   init_std = 0.,\n",
    "                   problem_name = problem_name)"
   ]
  },
  {
   "cell_type": "markdown",
   "id": "prepared-auckland",
   "metadata": {},
   "source": [
    "### Plot the results"
   ]
  },
  {
   "cell_type": "code",
   "execution_count": 470,
   "id": "remarkable-extra",
   "metadata": {
    "scrolled": true
   },
   "outputs": [
    {
     "data": {
      "image/png": "[encoded data removed]",
      "text/plain": [
       "<Figure size 608.4x262.548 with 6 Axes>"
      ]
     },
     "metadata": {
      "needs_background": "light"
     },
     "output_type": "display_data"
    }
   ],
   "source": [
    "problem_name = 'Rosenbrock'\n",
    "experiments_num = 10\n",
    "\n",
    "d = 2\n",
    "def fr2(x):\n",
    "    f_rosenbrock = 0.\n",
    "    for i in range(d - 1):\n",
    "        f_rosenbrock += 100. * (x[i + 1] - x[i]**2)**2 + (1. - x[i])**2\n",
    "    return f_rosenbrock\n",
    "d = 3\n",
    "def fr3(x):\n",
    "    f_rosenbrock = 0.\n",
    "    for i in range(d - 1):\n",
    "        f_rosenbrock += 100. * (x[i + 1] - x[i]**2)**2 + (1. - x[i])**2\n",
    "    return f_rosenbrock\n",
    "d = 4\n",
    "def fr4(x):\n",
    "    f_rosenbrock = 0.\n",
    "    for i in range(d - 1):\n",
    "        f_rosenbrock += 100. * (x[i + 1] - x[i]**2)**2 + (1. - x[i])**2\n",
    "    return f_rosenbrock\n",
    "\n",
    "fig, axes = plt.subplots(nrows=2, ncols=3, \n",
    "                         figsize=(1.3 * 6.5, 1.3 * 0.33 * 8.5), \n",
    "                         constrained_layout=False, \n",
    "                         sharex='col')\n",
    "for d, axes_col, f, x_opt in zip([2,3,4], axes.T, \n",
    "                                 [fr2, fr3, fr4], \n",
    "                                 [np.ones(2), \n",
    "                                  np.ones(3), \n",
    "                                  np.ones(4)]):\n",
    "    plot_experiments_linebo(d, axes_col, problem_name, experiments_num, f,\n",
    "                            SafeOpt = True, opt_val = f(x_opt))\n",
    "\n",
    "handles = axes[1, 0].get_legend_handles_labels()\n",
    "leg = fig.legend(*handles, loc='center',\n",
    "                 bbox_to_anchor=(0.5, 1.), ncol=5, frameon=False, fontsize=10, numpoints=1,\n",
    "                 labelspacing=0.2, columnspacing=0.8, handlelength=1.2, handletextpad=0.5)\n",
    "fig.tight_layout(h_pad=1., w_pad=0.5)\n",
    "artist_to_keep = [leg]\n",
    "plt.savefig('../plots/plot_comparison_' + problem_name + '.pdf', \n",
    "            bbox_extra_artists=artist_to_keep, bbox_inches='tight')"
   ]
  },
  {
   "cell_type": "markdown",
   "id": "elegant-season",
   "metadata": {},
   "source": [
    "### Runtimes comparison for QP and Rosenbrock"
   ]
  },
  {
   "cell_type": "code",
   "execution_count": 471,
   "id": "reverse-revelation",
   "metadata": {},
   "outputs": [
    {
     "data": {
      "image/png": "[encoded data removed]",
      "text/plain": [
       "<Figure size 425.88x143.208 with 2 Axes>"
      ]
     },
     "metadata": {
      "needs_background": "light"
     },
     "output_type": "display_data"
    }
   ],
   "source": [
    "experiments_num = 10\n",
    "ds = range(2,5)\n",
    "fig, axes = plt.subplots(nrows=1, ncols=2, \n",
    "                         figsize=(1.3 * 0.7 * 6.5, 1.3 * 0.18 * 8.5), \n",
    "                         constrained_layout=False, \n",
    "                         sharey='row', \n",
    "                         sharex='col')\n",
    "for problem_name, axes_col in zip(['QP', 'Rosenbrock'], axes.T):\n",
    "    plot_runtimes(axes_col, problem_name, experiments_num, ds)\n",
    "handles = axes[0].get_legend_handles_labels()\n",
    "leg = fig.legend(*handles, loc='center',\n",
    "                 bbox_to_anchor=(0.5, 1.), ncol=5, frameon=False, fontsize=10, numpoints=1,\n",
    "                 labelspacing=0.2, columnspacing=0.8, handlelength=1.2, handletextpad=0.5)\n",
    "fig.tight_layout(h_pad=1., w_pad=0.5)\n",
    "artist_to_keep = [leg]\n",
    "plt.savefig('../plots/plot_runtimes_QP_Rosenbrock' + '.pdf', \n",
    "            bbox_extra_artists=artist_to_keep, bbox_inches='tight')"
   ]
  },
  {
   "cell_type": "markdown",
   "id": "leading-nickel",
   "metadata": {},
   "source": [
    "## Comparing LB-SGD, SafeOpt, and LineBO on the  negative Gaussian objective and quadratic constraint (Section 5.1.3)"
   ]
  },
  {
   "cell_type": "markdown",
   "id": "aggressive-product",
   "metadata": {},
   "source": [
    "### $d = 2$"
   ]
  },
  {
   "cell_type": "code",
   "execution_count": 16,
   "id": "homeless-river",
   "metadata": {},
   "outputs": [],
   "source": [
    "d = 2\n",
    "m = 1\n",
    "experiments_num = 10\n",
    "n_iters = 300\n",
    "x_opt = np.zeros(d) / d**0.5\n",
    "x00 = d**(-0.5) * np.ones(d)\n",
    "sigma = 0.001\n",
    "nu = 0.01\n",
    "L = d\n",
    "\n",
    "\n",
    "n = int(d / 2)\n",
    "M0 = 20.\n",
    "Ms = d * 0.5 * np.ones(m)\n",
    "T = 3\n",
    "problem_name = 'Gaussian'\n",
    "\n",
    "\"\"\"\n",
    "Gaussian benchmark function with quadratic constraint.\n",
    "\"\"\"\n",
    "\n",
    "def h(X):\n",
    "    r = 0.5\n",
    "    x0 = d**(-0.5) * np.ones(d)\n",
    "    h = 0.2 * np.linalg.norm(X - x0)**2 - r**2 + 10. * (X[1] - x0[1])**2\n",
    "    return h\n",
    " \n",
    "def f(X):\n",
    "    Y = np.exp(-4. * np.linalg.norm(X,2)**2)\n",
    "    return -Y\n"
   ]
  },
  {
   "cell_type": "code",
   "execution_count": 104,
   "id": "arranged-stevens",
   "metadata": {},
   "outputs": [
    {
     "name": "stdout",
     "output_type": "stream",
     "text": [
      "LB_SGD runs finished\n"
     ]
    }
   ],
   "source": [
    "_ = run_exp_LB_SGD(f, h, d, m,\n",
    "                   experiments_num = experiments_num, \n",
    "                   n_iters = n_iters,\n",
    "                   n = n, \n",
    "                   M0 = M0, \n",
    "                   Ms = Ms, \n",
    "                   x00 = x00, \n",
    "                   init_std = 0.,\n",
    "                   eta0 = 0.1, \n",
    "                   factor = 0.95,\n",
    "                   x_opt = x_opt, \n",
    "                   sigma = sigma,\n",
    "                   problem_name = problem_name)"
   ]
  },
  {
   "cell_type": "markdown",
   "id": "arranged-wisdom",
   "metadata": {},
   "source": [
    "### $d = 10$"
   ]
  },
  {
   "cell_type": "code",
   "execution_count": 106,
   "id": "identical-grounds",
   "metadata": {},
   "outputs": [],
   "source": [
    "d = 10\n",
    "m = 1\n",
    "experiments_num = 10\n",
    "n_iters = d * 100\n",
    "x_opt = np.zeros(d) / d**0.5\n",
    "x00 = d**(-0.5) * np.ones(d)\n",
    "sigma = 0.001\n",
    "nu = 0.01\n",
    "L = d\n",
    "\n",
    "n = int(d / 3)\n",
    "M0 = 30.\n",
    "Ms = d * 0.5 * np.ones(m)\n",
    "T = 3\n",
    "problem_name = 'Gaussian'\n",
    "\n",
    "\"\"\"\n",
    "Gaussian benchmark function with quadratic constraint.\n",
    "\"\"\"\n",
    "\n",
    "def h(X):\n",
    "    r = 0.5\n",
    "    x0 = d**(-0.5) * np.ones(d)\n",
    "    h = 0.2 * np.linalg.norm(X - x0)**2 - r**2 + 10. * (X[1] - x0[1])**2\n",
    "    return h\n",
    " \n",
    "def f(X):\n",
    "    Y = np.exp(-4. * np.linalg.norm(X,2)**2)\n",
    "    return -Y"
   ]
  },
  {
   "cell_type": "code",
   "execution_count": 107,
   "id": "thick-priest",
   "metadata": {},
   "outputs": [
    {
     "name": "stdout",
     "output_type": "stream",
     "text": [
      "LB_SGD runs finished\n"
     ]
    }
   ],
   "source": [
    "_ = run_exp_LB_SGD(f, h, d, m,\n",
    "                   experiments_num = experiments_num, \n",
    "                   n_iters = n_iters,\n",
    "                   n = n, \n",
    "                   M0 = M0, \n",
    "                   Ms = Ms, \n",
    "                   x00 = x00,\n",
    "                   eta0 = 0.1,\n",
    "                   init_std = 0., \n",
    "                   factor = 0.95,\n",
    "                   x_opt = x_opt, \n",
    "                   sigma = sigma,\n",
    "                   problem_name = problem_name)"
   ]
  },
  {
   "cell_type": "markdown",
   "id": "combined-summit",
   "metadata": {},
   "source": [
    "### $d = 20$"
   ]
  },
  {
   "cell_type": "code",
   "execution_count": 110,
   "id": "recovered-cover",
   "metadata": {},
   "outputs": [],
   "source": [
    "d = 20\n",
    "m = 1\n",
    "experiments_num = 10\n",
    "n_iters = 1500\n",
    "x_opt = np.zeros(d) / d**0.5\n",
    "x00 = d**(-0.5) * np.ones(d)\n",
    "sigma = 0.001\n",
    "nu = 0.01\n",
    "L = d\n",
    "\n",
    "n = int(d / 3)\n",
    "M0 = 30.\n",
    "Ms = d * 0.5 * np.ones(m)\n",
    "T = 3\n",
    "problem_name = 'Gaussian'\n",
    "\n",
    "\"\"\"\n",
    "Gaussian benchmark function with quadratic constraint.\n",
    "\"\"\"\n",
    "\n",
    "def h(X):\n",
    "    r = 0.5\n",
    "    x0 = d**(-0.5) * np.ones(d)\n",
    "    h = 0.2 * np.linalg.norm(X - x0)**2 - r**2 + 10. * (X[1] - x0[1])**2\n",
    "    return h\n",
    " \n",
    "def f(X):\n",
    "    Y = np.exp(-4. * np.linalg.norm(X,2)**2)\n",
    "    return -Y"
   ]
  },
  {
   "cell_type": "code",
   "execution_count": 111,
   "id": "raising-signature",
   "metadata": {
    "scrolled": false
   },
   "outputs": [
    {
     "name": "stdout",
     "output_type": "stream",
     "text": [
      "LB_SGD runs finished\n"
     ]
    }
   ],
   "source": [
    "_ = run_exp_LB_SGD(f, h, d, m,\n",
    "                   experiments_num = experiments_num, \n",
    "                   n_iters = n_iters,\n",
    "                   n = n, \n",
    "                   M0 = M0, \n",
    "                   Ms = Ms, \n",
    "                   x00 = x00,\n",
    "                   eta0 = 0.1,\n",
    "                   init_std = 0., \n",
    "                   factor = 0.95,\n",
    "                   x_opt = x_opt, \n",
    "                   sigma = sigma,\n",
    "                   problem_name = problem_name)"
   ]
  },
  {
   "cell_type": "markdown",
   "id": "delayed-moses",
   "metadata": {},
   "source": [
    "### Plot the results"
   ]
  },
  {
   "cell_type": "code",
   "execution_count": 315,
   "id": "acquired-manual",
   "metadata": {
    "scrolled": true
   },
   "outputs": [
    {
     "data": {
      "image/png": "[encoded data removed]",
      "text/plain": [
       "<Figure size 608.4x262.548 with 6 Axes>"
      ]
     },
     "metadata": {
      "needs_background": "light"
     },
     "output_type": "display_data"
    }
   ],
   "source": [
    "problem_name = 'Gaussian'\n",
    "experiments_num = 10\n",
    "\n",
    "d = 2\n",
    "def f2(X):\n",
    "    Y = np.exp(-4. * np.linalg.norm(X,2)**2)\n",
    "    return -Y\n",
    "d = 10\n",
    "def f10(X):\n",
    "    Y = np.exp(-4. * np.linalg.norm(X,2)**2)\n",
    "    return -Y\n",
    "d = 20\n",
    "def f20(X):\n",
    "    Y = np.exp(-4. * np.linalg.norm(X,2)**2)\n",
    "    return -Y\n",
    "\n",
    "fig, axes = plt.subplots(nrows=2, ncols=3, \n",
    "                         figsize=(1.3 * 6.5, 1.3 * 0.33 * 8.5), \n",
    "                         constrained_layout=False, \n",
    "                         sharex='col')\n",
    "\n",
    "for d, axes_col, f in zip([2, 10, 20], axes.T, [f2, f10, f20]):\n",
    "    plot_experiments_linebo(d, axes_col, problem_name, experiments_num, f,\n",
    "                            SafeOpt = False, opt_val = -1.)\n",
    "handles = axes[1, 0].get_legend_handles_labels()\n",
    "leg = fig.legend(*handles, loc='center',\n",
    "                 bbox_to_anchor=(0.5, 1.), ncol=5, frameon=False, fontsize=10, numpoints=1,\n",
    "                 labelspacing=0.2, columnspacing=0.8, handlelength=1.2, handletextpad=0.5)\n",
    "fig.tight_layout(h_pad=1., w_pad=0.5)\n",
    "artist_to_keep = [leg]\n",
    "plt.savefig('../plots/plot_comparison_' + problem_name + '.pdf', \n",
    "            bbox_extra_artists=artist_to_keep, bbox_inches='tight')"
   ]
  },
  {
   "cell_type": "markdown",
   "id": "passive-sheriff",
   "metadata": {},
   "source": [
    "### Show the average runtimes of LB_SGD"
   ]
  },
  {
   "cell_type": "code",
   "execution_count": 65,
   "id": "subject-still",
   "metadata": {},
   "outputs": [
    {
     "name": "stdout",
     "output_type": "stream",
     "text": [
      "d= 2 : 0.8079489707946778 ; \n",
      "d= 10 : 2.2456504821777346 ; \n",
      "d= 20 : 3.010275363922119 ; \n"
     ]
    }
   ],
   "source": [
    "for d in [2, 10, 20]:\n",
    "    with open('../runs/LB_SGD_' + problem_name + '_d' + str(d) + '.npy', 'rb') as file:\n",
    "        LB_errors = np.load(file)\n",
    "        LB_cons = np.load(file) \n",
    "        LB_times = np.load(file)\n",
    "    LB_t_avg = np.mean(LB_times, axis=0)\n",
    "    print('d=', d,':', LB_t_avg ,'; ')"
   ]
  },
  {
   "cell_type": "markdown",
   "id": "little-sympathy",
   "metadata": {},
   "source": [
    "## Case of Gaussian objective and quadratic constraint that does not influence the solution"
   ]
  },
  {
   "cell_type": "markdown",
   "id": "stunning-timber",
   "metadata": {},
   "source": [
    "### $d = 2$"
   ]
  },
  {
   "cell_type": "code",
   "execution_count": 66,
   "id": "economic-conservation",
   "metadata": {},
   "outputs": [],
   "source": [
    "d = 2\n",
    "m = 2\n",
    "experiments_num = 10\n",
    "n_iters = 150\n",
    "x_opt = np.zeros(d) / d**0.5\n",
    "x00 = d**(-0.5) * np.ones(d)\n",
    "L = d\n",
    "\n",
    "n = int(d / 2)\n",
    "M0 = 20.\n",
    "Ms = d**2 * 0.5 * np.ones(m)\n",
    "T = 3\n",
    "problem_name = 'GaussianUn'\n",
    "\n",
    "\"\"\"\n",
    "Gaussian benchmark function with big quadratic constraint set such that the solution is in the interior.\n",
    "\"\"\"\n",
    "def f(X):\n",
    "    Y = np.exp(-4 * np.linalg.norm(X,2)**2)\n",
    "    return -Y\n",
    "\n",
    "def h(X):\n",
    "    r = 10.\n",
    "    x0 = d**(-0.5) * np.ones(d)\n",
    "    h = 0.2 * np.linalg.norm(X - x0)**2 - r**2 + 10. * (X[1] - x0[1])**2\n",
    "    f_val = f(X)\n",
    "    return h"
   ]
  },
  {
   "cell_type": "code",
   "execution_count": 67,
   "id": "laughing-snapshot",
   "metadata": {},
   "outputs": [
    {
     "name": "stdout",
     "output_type": "stream",
     "text": [
      "LB_SGD runs finished\n"
     ]
    }
   ],
   "source": [
    "_ = run_exp_LB_SGD(f, h, d, m,\n",
    "                   experiments_num = experiments_num, \n",
    "                   n_iters = n_iters,\n",
    "                   n = n, \n",
    "                   M0 = M0, \n",
    "                   Ms = Ms, \n",
    "                   x00 = x00, \n",
    "                   init_std = 0.,\n",
    "                   eta0 = 0.05, \n",
    "                   factor = 0.85,\n",
    "                   x_opt = x_opt, \n",
    "                   sigma = sigma,\n",
    "                   problem_name = problem_name)"
   ]
  },
  {
   "cell_type": "markdown",
   "id": "proved-heater",
   "metadata": {},
   "source": [
    "### $d = 10$"
   ]
  },
  {
   "cell_type": "code",
   "execution_count": 68,
   "id": "precise-liechtenstein",
   "metadata": {},
   "outputs": [],
   "source": [
    "d = 10\n",
    "m = 1 \n",
    "experiments_num = 10\n",
    "n_iters = 700\n",
    "x_opt = np.zeros(d) / d**0.5\n",
    "x00 = d**(-0.5) * np.ones(d)\n",
    "\n",
    "n = int(d / 2)\n",
    "M0 = 20.\n",
    "Ms = d**2 * 0.5 * np.ones(m)\n",
    "T = 3\n",
    "problem_name = 'GaussianUn'\n",
    "\n",
    "\n",
    "def f(X):\n",
    "    Y = np.exp(-4 * np.linalg.norm(X,2)**2)\n",
    "    return -Y\n",
    "\n",
    "def h(X):\n",
    "    r = 10.\n",
    "    x0 = d**(-0.5) * np.ones(d)\n",
    "    h = 0.2 * np.linalg.norm(X - x0)**2 - r**2 + 10. * (X[1] - x0[1])**2\n",
    "    f_val = f(X)\n",
    "    return h"
   ]
  },
  {
   "cell_type": "code",
   "execution_count": 69,
   "id": "pacific-theme",
   "metadata": {},
   "outputs": [
    {
     "name": "stdout",
     "output_type": "stream",
     "text": [
      "LB_SGD runs finished\n"
     ]
    }
   ],
   "source": [
    "_ = run_exp_LB_SGD(f, h, d, m,\n",
    "                   experiments_num = experiments_num, \n",
    "                   n_iters = n_iters,\n",
    "                   n = n, \n",
    "                   M0 = M0, \n",
    "                   Ms = Ms, \n",
    "                   x00 = x00, \n",
    "                   init_std = 0.,\n",
    "                   eta0 = 0.05, \n",
    "                   factor = 0.9,\n",
    "                   x_opt = x_opt, \n",
    "                   sigma = sigma,\n",
    "                   problem_name = problem_name)"
   ]
  },
  {
   "cell_type": "markdown",
   "id": "forced-huntington",
   "metadata": {},
   "source": [
    "### $d = 20$"
   ]
  },
  {
   "cell_type": "code",
   "execution_count": 70,
   "id": "revised-asthma",
   "metadata": {},
   "outputs": [],
   "source": [
    "d = 20\n",
    "m = 2 \n",
    "experiments_num = 10\n",
    "n_iters = 1000\n",
    "x_opt = np.zeros(d) / d**0.5\n",
    "x00 = d**(-0.5) * np.ones(d)\n",
    "\n",
    "n = int(d / 2)\n",
    "M0 = 20.\n",
    "Ms = d**2 * 0.5 * np.ones(m)\n",
    "T = 3\n",
    "problem_name = 'GaussianUn'\n",
    "\n",
    "def f(X):\n",
    "    Y = np.exp(-4 * np.linalg.norm(X,2)**2)\n",
    "    return -Y\n",
    "\n",
    "def h(X):\n",
    "    r = 10.\n",
    "    x0 = d**(-0.5) * np.ones(d)\n",
    "    h = 0.2 * np.linalg.norm(X - x0)**2 - r**2 + 10. * (X[1] - x0[1])**2\n",
    "    f_val = f(X)\n",
    "    return h"
   ]
  },
  {
   "cell_type": "code",
   "execution_count": 71,
   "id": "personalized-excitement",
   "metadata": {
    "scrolled": true
   },
   "outputs": [
    {
     "name": "stdout",
     "output_type": "stream",
     "text": [
      "LB_SGD runs finished\n"
     ]
    }
   ],
   "source": [
    "_ = run_exp_LB_SGD(f, h, d, m,\n",
    "                   experiments_num = experiments_num, \n",
    "                   n_iters = n_iters,\n",
    "                   n = n, \n",
    "                   M0 = M0, \n",
    "                   Ms = Ms, \n",
    "                   x00 = x00, \n",
    "                   init_std = 0.,\n",
    "                   eta0 = 0.005, \n",
    "                   factor = 0.9,\n",
    "                   x_opt = x_opt, \n",
    "                   sigma = sigma,\n",
    "                   problem_name = problem_name)"
   ]
  },
  {
   "cell_type": "markdown",
   "id": "fancy-cincinnati",
   "metadata": {},
   "source": [
    "### Plot the results"
   ]
  },
  {
   "cell_type": "code",
   "execution_count": 316,
   "id": "hydraulic-steal",
   "metadata": {},
   "outputs": [
    {
     "data": {
      "image/png": "[encoded data removed]",
      "text/plain": [
       "<Figure size 608.4x143.208 with 3 Axes>"
      ]
     },
     "metadata": {
      "needs_background": "light"
     },
     "output_type": "display_data"
    }
   ],
   "source": [
    "problem_name = 'GaussianUn'\n",
    "experiments_num = 10\n",
    "\n",
    "d = 2\n",
    "def f2(X):\n",
    "    Y = np.exp(-4. * np.linalg.norm(X,2)**2)\n",
    "    return -Y\n",
    "d = 10\n",
    "def f10(X):\n",
    "    Y = np.exp(-4. * np.linalg.norm(X,2)**2)\n",
    "    return -Y\n",
    "d = 20\n",
    "def f20(X):\n",
    "    Y = np.exp(-4. * np.linalg.norm(X,2)**2)\n",
    "    return -Y\n",
    "\n",
    "fig, axes = plt.subplots(nrows=1, ncols=3, \n",
    "                         figsize=(1.3 * 6.5, 1.3 * 0.18 * 8.5), \n",
    "                         constrained_layout=False,  \n",
    "                         sharex='col')\n",
    "\n",
    "for d, axes_col, f in zip([2, 10, 20], axes.T, [f2, f10, f20]):\n",
    "    plot_experiments_linebo(d, axes_col, problem_name, experiments_num, f,\n",
    "                            SafeOpt = False, opt_val = -1., cons = False)\n",
    "    \n",
    "handles = axes[0].get_legend_handles_labels()\n",
    "leg = fig.legend(*handles, loc='center',\n",
    "                 bbox_to_anchor=(0.5, 1.), ncol=5, frameon=False, fontsize=10, numpoints=1,\n",
    "                 labelspacing=0.2, columnspacing=0.8, handlelength=1.2, handletextpad=0.5)\n",
    "fig.tight_layout(h_pad=1., w_pad=0.5)\n",
    "artist_to_keep = [leg]\n",
    "plt.savefig('../plots/plot_comparison_' + problem_name + '.pdf', \n",
    "            bbox_extra_artists=artist_to_keep, bbox_inches='tight')"
   ]
  },
  {
   "cell_type": "code",
   "execution_count": null,
   "id": "legendary-senate",
   "metadata": {},
   "outputs": [],
   "source": []
  }
 ],
 "metadata": {
  "kernelspec": {
   "display_name": "Python 3",
   "language": "python",
   "name": "python3"
  },
  "language_info": {
   "codemirror_mode": {
    "name": "ipython",
    "version": 3
   },
   "file_extension": ".py",
   "mimetype": "text/x-python",
   "name": "python",
   "nbconvert_exporter": "python",
   "pygments_lexer": "ipython3",
   "version": "3.9.6"
  }
 },
 "nbformat": 4,
 "nbformat_minor": 5
}
